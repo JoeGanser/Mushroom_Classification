{
 "cells": [
  {
   "cell_type": "code",
   "execution_count": 1,
   "metadata": {},
   "outputs": [],
   "source": [
    "import pandas as pd\n",
    "import warnings\n",
    "import numpy as np\n",
    "warnings.filterwarnings('ignore')\n",
    "df = pd.read_csv('prepared_data.csv').drop('Unnamed: 0',axis=1)\n",
    "\n",
    "corr = df.corr()\n",
    "#features = corr[np.abs(corr['class'])>0.54002]['class'].index\n",
    "#df = df[features]\n",
    "#df.drop_duplicates(inplace=True)\n"
   ]
  },
  {
   "cell_type": "code",
   "execution_count": 2,
   "metadata": {},
   "outputs": [
    {
     "data": {
      "text/plain": [
       "1                         odor_n\n",
       "2                         odor_f\n",
       "3     stalk-surface-above-ring_k\n",
       "4     stalk-surface-below-ring_k\n",
       "5                    ring-type_p\n",
       "6                    gill-size_n\n",
       "7                    gill-size_b\n",
       "8                   gill-color_b\n",
       "9                      bruises_f\n",
       "10                     bruises_t\n",
       "11    stalk-surface-above-ring_s\n",
       "12           spore-print-color_h\n",
       "13                   ring-type_l\n",
       "14                  population_v\n",
       "15    stalk-surface-below-ring_s\n",
       "16           spore-print-color_n\n",
       "17           spore-print-color_k\n",
       "18           spore-print-color_w\n",
       "19                gill-spacing_c\n",
       "Name: Feature, dtype: object"
      ]
     },
     "execution_count": 2,
     "metadata": {},
     "output_type": "execute_result"
    }
   ],
   "source": [
    "ranked = pd.DataFrame(corr['class']).apply(lambda x:np.abs(x))\n",
    "ranked = ranked.sort_values(by='class',ascending=False)\n",
    "ranked = ranked.reset_index().rename(columns={'index':'Feature','class':'absolution correlation with target'})\n",
    "ranked = ranked.loc[1:]\n",
    "features = ranked.loc[1:19]['Feature']\n",
    "features"
   ]
  },
  {
   "cell_type": "code",
   "execution_count": 29,
   "metadata": {},
   "outputs": [],
   "source": [
    "X = df[features]\n",
    "y = df['class']"
   ]
  },
  {
   "cell_type": "code",
   "execution_count": 30,
   "metadata": {},
   "outputs": [
    {
     "name": "stdout",
     "output_type": "stream",
     "text": [
      "best score:  1.0\n",
      "best params:  {'criterion': 'gini', 'max_features': None, 'splitter': 'best'}\n"
     ]
    }
   ],
   "source": [
    "from sklearn.metrics import confusion_matrix, classification_report, accuracy_score,f1_score\n",
    "from sklearn.model_selection import GridSearchCV,train_test_split\n",
    "from sklearn.tree import DecisionTreeClassifier\n",
    "\n",
    "dt = DecisionTreeClassifier(class_weight='balanced')\n",
    "\n",
    "dt_grid = {'max_features':[None,'sqrt','log2'],'splitter':['best','random'],'criterion':['gini','entropy']}\n",
    "dt_gs = GridSearchCV(dt,param_grid=dt_grid).fit(X,y)\n",
    "print('best score: ',dt_gs.best_score_)\n",
    "print('best params: ',dt_gs.best_params_)"
   ]
  },
  {
   "cell_type": "code",
   "execution_count": 5,
   "metadata": {},
   "outputs": [
    {
     "name": "stdout",
     "output_type": "stream",
     "text": [
      "best score:  1.0\n",
      "best params:  {'max_depth': None, 'max_features': 'auto', 'n_estimators': 4}\n"
     ]
    }
   ],
   "source": [
    "from sklearn.ensemble import RandomForestClassifier\n",
    "from sklearn.metrics import confusion_matrix, classification_report, accuracy_score,f1_score\n",
    "from sklearn.model_selection import GridSearchCV,train_test_split\n",
    "\n",
    "RF = RandomForestClassifier(class_weight='balanced')\n",
    "\n",
    "# Number of trees in random forest\n",
    "n_estimators = [int(x) for x in np.linspace(start = 1, stop = 25, num = 25)]\n",
    "#n_estimators = [15]\n",
    "# Number of features to consider at every split\n",
    "max_features = ['auto', 'sqrt']\n",
    "#max_features = ['sqrt']\n",
    "# Maximum number of levels in tree\n",
    "max_depth = [1,2,3,4,5,6,7,None]\n",
    "#max_depth = [3]\n",
    "# Minimum number of samples required to split a node\n",
    "min_samples_split = [i for i in range(2,26)]\n",
    "#min_samples_split = [6]\n",
    "# Minimum number of samples required at each leaf node\n",
    "min_samples_leaf = [i for i in range(2,26)]\n",
    "# Method of selecting samples for training each tree\n",
    "#bootstrap = [True, False]\n",
    "# Create the random grid\n",
    "random_grid = {'n_estimators': n_estimators,\n",
    "               'max_features': max_features,\n",
    "               'max_depth': max_depth}#,\n",
    "               #'min_samples_split': min_samples_split}#,\n",
    "               #'min_samples_leaf': min_samples_leaf,\n",
    "               #'bootstrap': bootstrap}\n",
    "\n",
    "\n",
    "gs = GridSearchCV(RF,param_grid=random_grid).fit(X,y)\n",
    "print('best score: ',gs.best_score_)\n",
    "print('best params: ',gs.best_params_)"
   ]
  },
  {
   "cell_type": "code",
   "execution_count": null,
   "metadata": {},
   "outputs": [],
   "source": [
    "gs.best_params_"
   ]
  },
  {
   "cell_type": "markdown",
   "metadata": {},
   "source": [
    "Before dropping duplicates:\n",
    "    \n",
    "`best_features = {'max_depth': 3,\n",
    " 'max_features': 'sqrt',\n",
    " 'min_samples_split': 6,\n",
    " 'n_estimators': 15}`\n",
    "\n",
    "accuracy = 0.9762100082034455\n",
    "\n",
    "F1 = 0.975107296137339"
   ]
  },
  {
   "cell_type": "code",
   "execution_count": 32,
   "metadata": {},
   "outputs": [
    {
     "ename": "NameError",
     "evalue": "name 'X_train' is not defined",
     "output_type": "error",
     "traceback": [
      "\u001b[0;31m---------------------------------------------------------------------------\u001b[0m",
      "\u001b[0;31mNameError\u001b[0m                                 Traceback (most recent call last)",
      "\u001b[0;32m<ipython-input-32-721421ce1eb3>\u001b[0m in \u001b[0;36m<module>\u001b[0;34m()\u001b[0m\n\u001b[1;32m      4\u001b[0m \u001b[0;34m\u001b[0m\u001b[0m\n\u001b[1;32m      5\u001b[0m \u001b[0mrf_best\u001b[0m \u001b[0;34m=\u001b[0m \u001b[0mRandomForestClassifier\u001b[0m\u001b[0;34m(\u001b[0m\u001b[0mmax_depth\u001b[0m \u001b[0;34m=\u001b[0m\u001b[0;36m3\u001b[0m\u001b[0;34m,\u001b[0m\u001b[0mmax_features\u001b[0m\u001b[0;34m=\u001b[0m\u001b[0;34m'sqrt'\u001b[0m\u001b[0;34m,\u001b[0m\u001b[0mmin_samples_split\u001b[0m\u001b[0;34m=\u001b[0m\u001b[0;36m6\u001b[0m\u001b[0;34m,\u001b[0m\u001b[0mn_estimators\u001b[0m\u001b[0;34m=\u001b[0m\u001b[0;36m15\u001b[0m\u001b[0;34m,\u001b[0m\u001b[0mmin_samples_leaf\u001b[0m\u001b[0;34m=\u001b[0m\u001b[0;36m3\u001b[0m\u001b[0;34m,\u001b[0m\u001b[0mbootstrap\u001b[0m\u001b[0;34m=\u001b[0m\u001b[0;32mTrue\u001b[0m\u001b[0;34m)\u001b[0m\u001b[0;34m\u001b[0m\u001b[0m\n\u001b[0;32m----> 6\u001b[0;31m \u001b[0mrf_best\u001b[0m\u001b[0;34m.\u001b[0m\u001b[0mfit\u001b[0m\u001b[0;34m(\u001b[0m\u001b[0mX_train\u001b[0m\u001b[0;34m,\u001b[0m\u001b[0my_train\u001b[0m\u001b[0;34m)\u001b[0m\u001b[0;34m\u001b[0m\u001b[0m\n\u001b[0m\u001b[1;32m      7\u001b[0m \u001b[0my_pred\u001b[0m \u001b[0;34m=\u001b[0m \u001b[0mrf_best\u001b[0m\u001b[0;34m.\u001b[0m\u001b[0mpredict\u001b[0m\u001b[0;34m(\u001b[0m\u001b[0mX_test\u001b[0m\u001b[0;34m)\u001b[0m\u001b[0;34m\u001b[0m\u001b[0m\n\u001b[1;32m      8\u001b[0m \u001b[0mac\u001b[0m \u001b[0;34m=\u001b[0m \u001b[0maccuracy_score\u001b[0m\u001b[0;34m(\u001b[0m\u001b[0my_test\u001b[0m\u001b[0;34m,\u001b[0m\u001b[0my_pred\u001b[0m\u001b[0;34m)\u001b[0m\u001b[0;34m\u001b[0m\u001b[0m\n",
      "\u001b[0;31mNameError\u001b[0m: name 'X_train' is not defined"
     ]
    }
   ],
   "source": [
    "from sklearn.ensemble import RandomForestClassifier\n",
    "from sklearn.metrics import confusion_matrix, classification_report, accuracy_score,f1_score\n",
    "from sklearn.model_selection import GridSearchCV,train_test_split\n",
    "\n",
    "rf_best = RandomForestClassifier(max_depth =3,max_features='sqrt',min_samples_split=6,n_estimators=15,min_samples_leaf=3,bootstrap=True)\n",
    "rf_best.fit(X_train,y_train)\n",
    "y_pred = rf_best.predict(X_test)\n",
    "ac = accuracy_score(y_test,y_pred)\n",
    "F1 = f1_score(y_test,y_pred)\n",
    "print(ac)\n",
    "print(F1)"
   ]
  },
  {
   "cell_type": "code",
   "execution_count": null,
   "metadata": {},
   "outputs": [],
   "source": [
    "from sklearn.neighbors import KNeighborsClassifier\n",
    "\n",
    "knn = KNeighborsClassifier()\n",
    "\n",
    "parameters = {'n_neighbors':range(1,30),\n",
    "              'leaf_size':None),\n",
    "              'algorithm':['auto', 'kd_tree'],\n",
    "              'n_jobs':[-1]}\n",
    "\n",
    "#Fit the model\n",
    "knn_grid = GridSearchCV(knn, param_grid=parameters).fit(X,y)\n",
    "knn_best_params = knn_grid.best_score_"
   ]
  },
  {
   "cell_type": "code",
   "execution_count": null,
   "metadata": {},
   "outputs": [],
   "source": [
    "knn_grid.best_score_"
   ]
  }
 ],
 "metadata": {
  "kernelspec": {
   "display_name": "Python 3",
   "language": "python",
   "name": "python3"
  },
  "language_info": {
   "codemirror_mode": {
    "name": "ipython",
    "version": 3
   },
   "file_extension": ".py",
   "mimetype": "text/x-python",
   "name": "python",
   "nbconvert_exporter": "python",
   "pygments_lexer": "ipython3",
   "version": "3.6.4"
  }
 },
 "nbformat": 4,
 "nbformat_minor": 2
}
